{
 "cells": [
  {
   "cell_type": "markdown",
   "metadata": {},
   "source": [
    "#### Jupyter notebooks\n",
    "\n",
    "This is a [Jupyter](http://jupyter.org/) notebook using Python.  You can install Jupyter locally to edit and interact with this notebook.\n",
    "\n",
    "# Linear Algebra\n",
    "\n",
    "You have all seen basic linear algebra before, but this will summarize some different ways of thinking about the fundamental operations.\n",
    "\n",
    "Linear algebra is the study of linear transformations on vectors, which represent points in a finite dimensional space.  The matrix-vector product $y = A x$ is a linear combination of the columns of $A$.  The familiar definition,\n",
    "\n",
    "$$ y_i = \\sum_j A_{i,j} x_j $$\n",
    "\n",
    "can also be viewed as\n",
    "\n",
    "$$ y = \\Bigg[ A_{:,0} \\Bigg| A_{:,1} \\Bigg| \\dotsm \\Bigg] \\begin{bmatrix} x_0 \\\\ x_1 \\\\ \\vdots \\end{bmatrix}\n",
    "= \\Bigg[ A_{:,0} \\Bigg] x_0 + \\Bigg[ A_{:,1} \\Bigg] x_1 + \\dotsb . $$\n",
    "\n",
    "The notation $A_{i,j}$ corresponds to the Python syntax `A[i,j]` and the colon `:` means the entire range (row or column).  So $A_{:,j}$ is the $j$th column and $A_{i,:}$ is the $i$th row.  The corresponding Python syntax is `A[:,j]` and `A[i,:]`."
   ]
  },
  {
   "cell_type": "code",
   "execution_count": 1,
   "metadata": {},
   "outputs": [
    {
     "data": {
      "text/plain": [
       "array([ 50, 130, 290])"
      ]
     },
     "execution_count": 1,
     "metadata": {},
     "output_type": "execute_result"
    }
   ],
   "source": [
    "%matplotlib inline\n",
    "import numpy as np\n",
    "import matplotlib.pyplot as plt\n",
    "plt.style.use('ggplot')\n",
    "\n",
    "def matmult1(A, x):\n",
    "    \"\"\"Entries of y are dot products of rows of A with x\"\"\"\n",
    "    y = np.zeros_like(A[:,0])\n",
    "    for i in range(len(A)):\n",
    "        row = A[i,:]\n",
    "        for j in range(len(row)):\n",
    "            y[i] += row[j] * x[j]\n",
    "    return y\n",
    "\n",
    "A = np.array([[1,2],[3,5],[7,11]])\n",
    "x = np.array([10,20])\n",
    "matmult1(A, x)"
   ]
  },
  {
   "cell_type": "code",
   "execution_count": 2,
   "metadata": {},
   "outputs": [
    {
     "data": {
      "text/plain": [
       "(array([[ 1,  2],\n",
       "        [ 3,  5],\n",
       "        [ 7, 11]]),\n",
       " array([10, 20]))"
      ]
     },
     "execution_count": 2,
     "metadata": {},
     "output_type": "execute_result"
    }
   ],
   "source": [
    "A, x"
   ]
  },
  {
   "cell_type": "code",
   "execution_count": 3,
   "metadata": {},
   "outputs": [
    {
     "data": {
      "text/plain": [
       "array([ 50, 130, 290])"
      ]
     },
     "execution_count": 3,
     "metadata": {},
     "output_type": "execute_result"
    }
   ],
   "source": [
    "def matmult2(A, x):\n",
    "    \"\"\"Same idea, but more compactly\"\"\"\n",
    "    y = np.zeros_like(A[:,0])\n",
    "    for i,row in enumerate(A):\n",
    "        y[i] = row.dot(x)\n",
    "    return y\n",
    "\n",
    "matmult2(A, x)"
   ]
  },
  {
   "cell_type": "code",
   "execution_count": 4,
   "metadata": {},
   "outputs": [
    {
     "data": {
      "text/plain": [
       "array([ 50, 130, 290])"
      ]
     },
     "execution_count": 4,
     "metadata": {},
     "output_type": "execute_result"
    }
   ],
   "source": [
    "def matmult3(A, x):\n",
    "    \"\"\"y is a linear expansion of the columns of A\"\"\"\n",
    "    y = np.zeros_like(A[:,0])\n",
    "    for j,col in enumerate(A.T):\n",
    "        y += col * x[j]\n",
    "    return y\n",
    "\n",
    "matmult3(A, x)"
   ]
  },
  {
   "cell_type": "code",
   "execution_count": 5,
   "metadata": {},
   "outputs": [
    {
     "data": {
      "text/plain": [
       "array([ 50, 130, 290])"
      ]
     },
     "execution_count": 5,
     "metadata": {},
     "output_type": "execute_result"
    }
   ],
   "source": [
    "# We will use this version\n",
    "A.dot(x)"
   ]
  },
  {
   "cell_type": "code",
   "execution_count": 6,
   "metadata": {},
   "outputs": [
    {
     "data": {
      "text/plain": [
       "array([ 50, 130, 290])"
      ]
     },
     "execution_count": 6,
     "metadata": {},
     "output_type": "execute_result"
    }
   ],
   "source": [
    "# Or this version (Python 3.5+)\n",
    "A @ x"
   ]
  },
  {
   "cell_type": "markdown",
   "metadata": {},
   "source": [
    "### Some common terminology\n",
    "\n",
    "* The **range** of $A$ is the space spanned by its columns.  This definition coincides with the range of a function $f(x)$ when $f(x) = A x$.\n",
    "* The (right) **nullspace** of $A$ is the space of vectors $x$ such that $A x = 0$.\n",
    "* The **rank** of $A$ is the dimension of its range.\n",
    "* A matrix has **full rank** if the nullspace of either $A$ or $A^T$ is empty (only the 0 vector).  Equivalently, if all the columns of $A$ (or $A^T$) are linearly independent.\n",
    "* A **nonsingular** (or **invertible**) matrix is a square matrix of full rank.  We call the inverse $A^{-1}$ and it satisfies $A^{-1} A = A A^{-1} = I$.\n",
    "\n",
    "$\\DeclareMathOperator{\\rank}{rank} \\DeclareMathOperator{\\null}{null} $\n",
    "If $A \\in \\mathbb{R}^{m\\times m}$, which of these doesn't belong?\n",
    "1. $A$ has an inverse $A^{-1}$\n",
    "2. $\\rank (A) = m$\n",
    "3. $\\null(A) = \\{0\\}$\n",
    "4. $A A^T = A^T A$\n",
    "5. $\\det(A) \\ne 0$\n",
    "6. $A x = 0$ implies that $x = 0$\n",
    "\n",
    "When we write $x = A^{-1} y$, we mean that $x$ is the unique vector such that $A x = y$.\n",
    "(It is rare that we explicitly compute a matrix $A^{-1}$, though [it's not as \"bad\"](https://arxiv.org/abs/1201.6035) as people may have told you.)\n",
    "A vector $y$ is equivalent to $\\sum_i e_i y_i$ where $e_i$ are columns of the identity.\n",
    "Meanwhile, $x = A^{-1} y$ means that we are expressing that same vector $y$ in the basis of the columns of $A$, i.e., $\\sum_i A_{:,i} x_i$.\n"
   ]
  },
  {
   "cell_type": "code",
   "execution_count": 7,
   "metadata": {},
   "outputs": [
    {
     "name": "stdout",
     "output_type": "stream",
     "text": [
      "[[2 3]\n",
      " [0 4]]\n",
      "[[13 12]\n",
      " [12 16]]\n",
      "[[ 4  6]\n",
      " [ 6 25]]\n"
     ]
    }
   ],
   "source": [
    "B = np.array([[2, 3],[0, 4]])\n",
    "print(B)\n",
    "print(B @ B.T)\n",
    "print(B.T @ B)"
   ]
  },
  {
   "cell_type": "code",
   "execution_count": 8,
   "metadata": {},
   "outputs": [
    {
     "name": "stdout",
     "output_type": "stream",
     "text": [
      "[[ 0.5   -0.375]\n",
      " [ 0.     0.25 ]]\n"
     ]
    }
   ],
   "source": [
    "Binv = np.linalg.inv(B)\n",
    "print(Binv)"
   ]
  },
  {
   "cell_type": "code",
   "execution_count": 9,
   "metadata": {},
   "outputs": [
    {
     "name": "stdout",
     "output_type": "stream",
     "text": [
      "[[1. 0.]\n",
      " [0. 1.]]\n",
      "[[1. 0.]\n",
      " [0. 1.]]\n",
      "[[1. 0.]\n",
      " [0. 1.]]\n"
     ]
    }
   ],
   "source": [
    "print(Binv @ B)\n",
    "print(B @ Binv)\n",
    "print(np.linalg.solve(B, B))"
   ]
  },
  {
   "cell_type": "markdown",
   "metadata": {},
   "source": [
    "### Vandermonde matrices\n",
    "\n",
    "A Vandermonde matrix is one whose columns are functions evaluated at discrete points."
   ]
  },
  {
   "cell_type": "code",
   "execution_count": 10,
   "metadata": {},
   "outputs": [
    {
     "name": "stdout",
     "output_type": "stream",
     "text": [
      "shape = (50, 4)\n"
     ]
    },
    {
     "data": {
      "image/png": "[encoded data removed]",
      "text/plain": [
       "<Figure size 432x288 with 1 Axes>"
      ]
     },
     "metadata": {},
     "output_type": "display_data"
    }
   ],
   "source": [
    "x = np.linspace(-1,1)\n",
    "A = np.array([x**3, x**2, x, 1+0*x]).T\n",
    "print('shape =', A.shape)  # This is a tall matrix with 4 columns\n",
    "\n",
    "lines = plt.plot(x, A, '.')\n",
    "plt.legend(lines, range(4))\n",
    "plt.ylim((-1.1, 1.1));"
   ]
  },
  {
   "cell_type": "markdown",
   "metadata": {},
   "source": [
    "* This type of matrix is very common; we can also create it with `numpy.vander`.\n",
    "\n",
    "We can evaluate polynomials using matrix-vector multiplication.\n",
    "For example,\n",
    "$$ 5x^3 - 3x = \\Bigg[ x^3 \\Bigg|\\, x^2 \\Bigg|\\, x \\,\\Bigg|\\, 1 \\Bigg] \\begin{bmatrix}5 \\\\ 0 \\\\ -3 \\\\ 0 \\end{bmatrix} . $$"
   ]
  },
  {
   "cell_type": "code",
   "execution_count": 11,
   "metadata": {},
   "outputs": [
    {
     "data": {
      "image/png": "[encoded data removed]",
      "text/plain": [
       "<Figure size 432x288 with 1 Axes>"
      ]
     },
     "metadata": {},
     "output_type": "display_data"
    }
   ],
   "source": [
    "p = np.array([5, 0, -3, 0])\n",
    "plt.plot(x, A @ p)\n",
    "plt.plot(x, np.polyval(p, x), 'o');"
   ]
  },
  {
   "cell_type": "markdown",
   "metadata": {},
   "source": [
    "Now suppose we know the value of a polynomial at a few points.\n",
    "We can use the Vandermonde matrix to find a polynomial through those points."
   ]
  },
  {
   "cell_type": "code",
   "execution_count": 12,
   "metadata": {},
   "outputs": [
    {
     "data": {
      "image/png": "[encoded data removed]",
      "text/plain": [
       "<Figure size 432x288 with 1 Axes>"
      ]
     },
     "metadata": {},
     "output_type": "display_data"
    }
   ],
   "source": [
    "x1 = np.array([-0.9, 0.1, 0.5, 0.8])  # points where we know values\n",
    "y = np.array([1, 2.4, -0.2, 1.3])     # values at those points\n",
    "\n",
    "plt.plot(x1, y, 'o');"
   ]
  },
  {
   "cell_type": "code",
   "execution_count": 13,
   "metadata": {},
   "outputs": [
    {
     "name": "stdout",
     "output_type": "stream",
     "text": [
      "B = [[-0.729  0.81  -0.9    1.   ]\n",
      " [ 0.001  0.01   0.1    1.   ]\n",
      " [ 0.125  0.25   0.5    1.   ]\n",
      " [ 0.512  0.64   0.8    1.   ]]\n",
      "p = [12.98319328 -1.74789916 -9.47605042  3.35210084]\n"
     ]
    },
    {
     "data": {
      "image/png": "[encoded data removed]",
      "text/plain": [
       "<Figure size 432x288 with 1 Axes>"
      ]
     },
     "metadata": {},
     "output_type": "display_data"
    }
   ],
   "source": [
    "B = np.vander(x1)                     # Vandermonde matrix at the known points\n",
    "p = np.linalg.solve(B, y)             # Compute the polynomial coefficients\n",
    "plt.plot(x, A @ p)                    # Plot the polynomial evaluated at all points\n",
    "print('B =', B)\n",
    "print('p =', p)"
   ]
  },
  {
   "cell_type": "markdown",
   "metadata": {},
   "source": [
    "Evidently $$p(x) = 12.983 x^3 - 1.748 x^2 - 9.476 x + 3.352$$\n",
    "is the unique cubic polynomial that interpolates those points.\n",
    "Applying $B^{-1}$ converted from the values at the marked points to the polynomial coefficients."
   ]
  },
  {
   "cell_type": "markdown",
   "metadata": {},
   "source": [
    "## Inner products and orthogonality\n",
    "\n",
    "The **inner product**\n",
    "$$ x^T y = \\sum_i x_i y_i $$\n",
    "of vectors (or columns of a matrix) tell us about their magnitude and about the angle.\n",
    "The **norm** is induced by the inner product,\n",
    "$$ \\lVert x \\rVert = \\sqrt{x^T x} $$\n",
    "and the angle $\\theta$ is defined by\n",
    "$$ \\cos \\theta = \\frac{x^T y}{\\lVert x \\rVert \\, \\lVert y \\rVert} . $$\n",
    "Inner products are **bilinear**, which means that they satisfy some convenient algebraic properties\n",
    "$$ \\begin{split}\n",
    "(x + y)^T z &= x^T z + y^T z \\\\\n",
    "x^T (y + z) &= x^T y + x^T z \\\\\n",
    "(\\alpha x)^T (\\beta y) &= \\alpha \\beta x^T y \\\\\n",
    "\\end{split} . $$\n",
    "The pairwise inner products between two sets of vectors can be expressed by collecting the sets as columns in matrices and writing $A = X^T Y$ where $A_{i,j} = x_i^T y_j$.\n",
    "It follows from this definition that\n",
    "$$ (X^T Y)^T = Y^T X .$$\n",
    "\n",
    "### Orthogonal matrices\n",
    "\n",
    "If $x^T y = 0$ then we say $x$ and $y$ are **orthogonal** (or \"$x$ is orthogonal to $y$\").\n",
    "A vector is said to be **normalized** if $\\lVert x \\rVert = 1$.\n",
    "If $x$ is orthogonal to $y$ and $\\lVert x \\rVert = \\lVert y \\rVert = 1$ then we say $x$ and $y$ are **orthonormal**.\n",
    "A square matrix with orthonormal columns is said to be an **orthogonal matrix**.\n",
    "We typically use $Q$ or $U$ and $V$ for matrices that are known/constructed to be orthogonal.\n",
    "Orthogonal matrices are always full rank -- the columns are linearly independent.\n",
    "The inverse of a orthogonal matrix is its transpose:\n",
    "$$ Q^T Q = Q Q^T = I . $$\n",
    "Orthogonal matrices are a powerful building block for robust numerical algorithms."
   ]
  },
  {
   "cell_type": "code",
   "execution_count": 14,
   "metadata": {},
   "outputs": [
    {
     "data": {
      "image/png": "[encoded data removed]",
      "text/plain": [
       "<Figure size 432x288 with 1 Axes>"
      ]
     },
     "metadata": {},
     "output_type": "display_data"
    }
   ],
   "source": [
    "# Make some polynomials\n",
    "a0 = A @ np.array([0, 0, 0, .5]) # .5\n",
    "a1 = A @ np.array([0, 0, 1, 0])  # x\n",
    "a2 = A @ np.array([0, 1, 0, 0])  # x^2\n",
    "\n",
    "plt.plot(x, np.array([a0, a1, a2]).T, '.');\n",
    "plt.legend(('$1/2$', '$x$', '$x^2$'));"
   ]
  },
  {
   "cell_type": "markdown",
   "metadata": {},
   "source": [
    "#### Inner products of even and odd functions\n",
    "Which of the above functions are even and which are odd?  Note that\n",
    "* the integral of an odd function over a symmetric interval such as $[-1, 1]$ is zero; the same holds for a sum of the function evaluated at a symmetric set of points, and\n",
    "* the product of even and odd functions is odd.\n",
    "\n",
    "Together, this explains that even functions are orthogonal to odd functions."
   ]
  },
  {
   "cell_type": "code",
   "execution_count": 15,
   "metadata": {},
   "outputs": [
    {
     "data": {
      "text/plain": [
       "(-4.718447854656915e-16, 2.453227608198226, -3.552713678800501e-15)"
      ]
     },
     "execution_count": 15,
     "metadata": {},
     "output_type": "execute_result"
    }
   ],
   "source": [
    "q0 = a0 / np.linalg.norm(a0)\n",
    "\n",
    "a1 @ q0, a2 @ q0, a2 @ a1"
   ]
  },
  {
   "cell_type": "markdown",
   "metadata": {},
   "source": [
    "#### What is the constant component of $a_2$?\n",
    "\n",
    "We see above that $a_2$ is not orthogonal to $q_0$.  However, we can measure the component of $a_2$ in direction $q_0$ by $q_0^T a_2$ and can write that as a vector (e.g., to plot it or add/subtract it) via $q_0 q_0^T a_2$."
   ]
  },
  {
   "cell_type": "code",
   "execution_count": 16,
   "metadata": {},
   "outputs": [
    {
     "data": {
      "image/png": "[encoded data removed]",
      "text/plain": [
       "<Figure size 432x288 with 1 Axes>"
      ]
     },
     "metadata": {},
     "output_type": "display_data"
    }
   ],
   "source": [
    "plt.plot(x, q0 * (q0 @ a2), '.');"
   ]
  },
  {
   "cell_type": "markdown",
   "metadata": {},
   "source": [
    "Let's project that away to create a vector $x$ that is orthogonal to $q_0$.  We can use the orthogonal projection $y = (I - q_0 q_0^T) a_2 = a_2 - q_0 (q_0^T a_2)$.  We can also normalize the result and collect the vectors as columns in a matrix."
   ]
  },
  {
   "cell_type": "code",
   "execution_count": 17,
   "metadata": {},
   "outputs": [
    {
     "name": "stdout",
     "output_type": "stream",
     "text": [
      "[[ 1.00000000e+00 -1.32894490e-16 -1.77240772e-16]\n",
      " [-1.32894490e-16  1.00000000e+00 -1.93779647e-16]\n",
      " [-1.77240772e-16 -1.93779647e-16  1.00000000e+00]]\n"
     ]
    },
    {
     "data": {
      "image/png": "[encoded data removed]",
      "text/plain": [
       "<Figure size 432x288 with 1 Axes>"
      ]
     },
     "metadata": {},
     "output_type": "display_data"
    }
   ],
   "source": [
    "y = a2 - q0 * (q0 @ a2)\n",
    "\n",
    "q1 = a1 / np.linalg.norm(a1)\n",
    "q2 = y / np.linalg.norm(y)\n",
    "\n",
    "Q = np.array([q0, q1, q2]).T\n",
    "print(Q.T @ Q)\n",
    "plt.plot(x, Q, '.');"
   ]
  },
  {
   "cell_type": "code",
   "execution_count": 18,
   "metadata": {},
   "outputs": [
    {
     "data": {
      "text/plain": [
       "(array([[   5,  110],\n",
       "        [ 110, 2500]]),\n",
       " array([[   1,   60],\n",
       "        [  60, 1600]]))"
      ]
     },
     "execution_count": 18,
     "metadata": {},
     "output_type": "execute_result"
    }
   ],
   "source": [
    "z = np.array([[1, 2], [30, 40]])\n",
    "z @ z.T, z * z.T"
   ]
  },
  {
   "cell_type": "code",
   "execution_count": 19,
   "metadata": {},
   "outputs": [
    {
     "data": {
      "text/plain": [
       "(array([[1, 2],\n",
       "        [2, 4]]),\n",
       " array([[1, 2],\n",
       "        [2, 4]]))"
      ]
     },
     "execution_count": 19,
     "metadata": {},
     "output_type": "execute_result"
    }
   ],
   "source": [
    "z = np.array([1, 2])\n",
    "np.outer(z, z), z[:, None] * z"
   ]
  },
  {
   "cell_type": "markdown",
   "metadata": {},
   "source": [
    "## Gram-Schmidt Orthogonalization\n",
    "\n",
    "Given a collection of vectors (columns of a matrix), we can find an orthogonal basis by applying the above procedure one column at a time and saving the result.  Let's think of the first two columns,\n",
    "$$ \\Bigg[ a_0 \\, \\Bigg| \\, a_1 \\Bigg] = \\Bigg[ q_0 \\,\\Bigg|\\, q_1 \\Bigg]\n",
    "\\begin{bmatrix} r_{00} & r_{01} \\\\ 0 & r_{11} \\end{bmatrix} . $$\n",
    "#### Column 0\n",
    "The equation for column 0 reads\n",
    "$$ a_0 = q_0 r_{00} $$\n",
    "and we require that $\\lVert q_0 \\rVert = 1$, thus\n",
    "$$ r_{00} = \\lVert a_0 \\rVert $$\n",
    "and\n",
    "$$ q_0 = a_0 / r_{00} . $$\n",
    "#### Column 1\n",
    "This equation reads\n",
    "$$ a_1 = q_0 r_{01} + q_1 r_{11} $$\n",
    "where $a_1$ and $q_0$ are known and we will require that $q_0^T q_1 = 0$.\n",
    "We can find the part of $a_1$ that is orthogonal to $q_0$ via\n",
    "$$ (I - q_0 q_0^T) a_1 = a_1 - q_0 \\underbrace{q_0^T a_1}_{r_{01}} $$\n",
    "leaving a sub-problem equivalent to that of column 0."
   ]
  },
  {
   "cell_type": "code",
   "execution_count": 20,
   "metadata": {},
   "outputs": [
    {
     "name": "stdout",
     "output_type": "stream",
     "text": [
      "[[ 1.00000000e+00 -4.66599631e-18 -5.83579544e-17  1.54642560e-16]\n",
      " [-4.66599631e-18  1.00000000e+00 -1.34356916e-17  1.43379430e-16]\n",
      " [-5.83579544e-17 -1.34356916e-17  1.00000000e+00 -1.54044017e-16]\n",
      " [ 1.54642560e-16  1.43379430e-16 -1.54044017e-16  1.00000000e+00]]\n",
      "[[ 2.83562932e+00 -6.10622664e-16  3.81827281e+00 -1.33226763e-15]\n",
      " [ 0.00000000e+00  3.29047206e+00  1.11022302e-16  5.27186935e+00]\n",
      " [ 0.00000000e+00  0.00000000e+00  1.66365006e+00  1.52655666e-16]\n",
      " [ 0.00000000e+00  0.00000000e+00  0.00000000e+00  4.71247213e+00]]\n",
      "5.754298069240366e-16\n"
     ]
    },
    {
     "data": {
      "image/png": "[encoded data removed]",
      "text/plain": [
       "<Figure size 432x288 with 1 Axes>"
      ]
     },
     "metadata": {},
     "output_type": "display_data"
    }
   ],
   "source": [
    "def gram_schmidt_naive(A):\n",
    "    \"\"\"Compute a QR factorization of A using the Gram-Schmidt algorithm\"\"\"\n",
    "    Q = np.zeros_like(A)\n",
    "    R = np.zeros((A.shape[1], A.shape[1]))\n",
    "    for i in range(len(Q.T)):\n",
    "        v = A[:,i].copy()\n",
    "        for j in range(i):\n",
    "            r = Q[:,j] @ v\n",
    "            R[j,i] = r\n",
    "            v -= Q[:,j] * r # \"modified Gram-Schmidt\"\n",
    "        R[i,i] = np.linalg.norm(v)\n",
    "        Q[:,i] = v / R[i,i]\n",
    "    return Q, R\n",
    "\n",
    "A = np.vander(x, 4)\n",
    "Q, R = gram_schmidt_naive(A)\n",
    "print(Q.T @ Q)\n",
    "print(R)\n",
    "print(np.linalg.norm(Q @ R - A))\n",
    "plt.plot(x, Q);"
   ]
  },
  {
   "cell_type": "code",
   "execution_count": 21,
   "metadata": {},
   "outputs": [
    {
     "data": {
      "text/plain": [
       "(50, 4)"
      ]
     },
     "execution_count": 21,
     "metadata": {},
     "output_type": "execute_result"
    }
   ],
   "source": [
    "A.shape"
   ]
  },
  {
   "cell_type": "code",
   "execution_count": 22,
   "metadata": {},
   "outputs": [
    {
     "data": {
      "image/png": "[encoded data removed]",
      "text/plain": [
       "<Figure size 432x288 with 1 Axes>"
      ]
     },
     "metadata": {},
     "output_type": "display_data"
    }
   ],
   "source": [
    "A = np.vander(x, 6, increasing=True)\n",
    "Q, R = gram_schmidt_naive(A)\n",
    "plt.plot(x, Q);"
   ]
  },
  {
   "cell_type": "markdown",
   "metadata": {},
   "source": [
    "#### Full vs Reduced QR\n",
    "\n",
    "Our algorithm computes the reduced QR factorization.  There also exists a full QR factorization, which includes an orthogonal basis for the null space of $A$.  This is sometimes useful, and is implicitly constructed by the Householder method (which we'll get to later).\n",
    "\n",
    "<img src=\"img/TB-ReducedQR.png\" width=\"40%\" /> <img src=\"img/TB-FullQR.png\" width=\"40%\" />"
   ]
  },
  {
   "cell_type": "markdown",
   "metadata": {},
   "source": [
    "### Theorem: all full-rank $m\\times n$ matrices ($m \\ge n$) have a unique reduced $Q R$ factorization with $R_{j,j} > 0$.\n",
    "\n",
    "### Orthogonal polynomials\n",
    "\n",
    "We used `x = numpy.linspace(-1,1)` which uses $m=50$ points by default.  The number 50 is arbitrary and as we use more points, our columns become better approximations of continuous functions and the vector inner product becomes an integral (up to scaling):\n",
    "$$ \\frac 2 m \\sum_{i=1}^m p_i q_i \\approx \\int_{-1}^1 p(x) q(x) . $$\n",
    "\n",
    "When we orthogonalize the monomials using this inner product, we get the [Legendre Polynomials](https://en.wikipedia.org/wiki/Legendre_polynomials) (up to scaling).  These polynomials have important applications in physics and engineering, as well as playing an important role in approximation (which we will go into in more detail).\n",
    "\n",
    "### Solving equations using QR\n",
    "\n",
    "To solve\n",
    "$$ A x = b $$\n",
    "we can compute $A = QR$ and then\n",
    "$$ x = R^{-1} Q^T b . $$\n",
    "\n",
    "This also works for non-square systems!"
   ]
  },
  {
   "cell_type": "code",
   "execution_count": 23,
   "metadata": {},
   "outputs": [
    {
     "name": "stdout",
     "output_type": "stream",
     "text": [
      "B = [[ 1.    -0.9    0.81  -0.729]\n",
      " [ 1.     0.1    0.01   0.001]\n",
      " [ 1.     0.5    0.25   0.125]\n",
      " [ 1.     0.8    0.64   0.512]] \n",
      "p = [ 3.35210084 -9.47605042 -1.74789916 12.98319328]\n"
     ]
    },
    {
     "data": {
      "image/png": "[encoded data removed]",
      "text/plain": [
       "<Figure size 432x288 with 1 Axes>"
      ]
     },
     "metadata": {},
     "output_type": "display_data"
    }
   ],
   "source": [
    "x1 = np.array([-0.9, 0.1, 0.5, 0.8]) # points where we know values\n",
    "y = np.array([1, 2.4, -0.2, 1.3])    # values at those points\n",
    "\n",
    "k = 4\n",
    "plt.plot(x1, y, 'o')\n",
    "B = np.vander(x1, k, increasing=True)  # Vandermonde matrix at the known points\n",
    "Q, R = gram_schmidt_naive(B)\n",
    "p = np.linalg.solve(R, Q.T @ y)      # Compute the polynomial coefficients\n",
    "plt.plot(x, np.vander(x,k,increasing=True) @ p)  # Plot the polynomial evaluated at all points\n",
    "print('B =', B, '\\np =', p)"
   ]
  },
  {
   "cell_type": "code",
   "execution_count": 24,
   "metadata": {},
   "outputs": [
    {
     "name": "stdout",
     "output_type": "stream",
     "text": [
      "gram_schmidt_naive   7.33e-16 9.11e-09\n",
      "qr                   2.53e-15 2.36e-15\n"
     ]
    }
   ],
   "source": [
    "m = 20\n",
    "V = np.vander(np.linspace(-1,1,m), increasing=True)\n",
    "Q, R = gram_schmidt_naive(V)\n",
    "\n",
    "def qr_test(qr, V):\n",
    "    Q, R = qr(V)\n",
    "    m = len(Q.T)\n",
    "    print('{:20} {:.2e} {:.2e}'.format(\n",
    "        qr.__name__,\n",
    "        np.linalg.norm(Q @ R - V),\n",
    "        np.linalg.norm(Q.T @ Q - np.eye(m))))\n",
    "    \n",
    "qr_test(gram_schmidt_naive, V)\n",
    "qr_test(np.linalg.qr, V)"
   ]
  },
  {
   "cell_type": "code",
   "execution_count": 25,
   "metadata": {},
   "outputs": [
    {
     "name": "stdout",
     "output_type": "stream",
     "text": [
      "gram_schmidt_classical 9.27e-16 1.42e+00\n"
     ]
    }
   ],
   "source": [
    "def gram_schmidt_classical(A):\n",
    "    Q = np.zeros_like(A)\n",
    "    R = np.zeros((len(A.T),len(A.T)))\n",
    "    for i in range(len(Q.T)):\n",
    "        v = A[:,i].copy()\n",
    "        R[:i,i] = Q[:,:i].T @ v\n",
    "        v -= Q[:,:i] @ R[:i,i]\n",
    "        R[i,i] = np.linalg.norm(v)\n",
    "        Q[:,i] = v / R[i,i]\n",
    "    return Q, R\n",
    "\n",
    "qr_test(gram_schmidt_classical, V)"
   ]
  },
  {
   "cell_type": "markdown",
   "metadata": {},
   "source": [
    "Classical Gram-Schmidt is highly parallel, but unstable, as evidenced by the lack of orthogonality in $Q$.\n",
    "\n",
    "### Right-looking algorithms\n",
    "\n",
    "The implementations above have been \"left-looking\"; when working on column $i$, we compare it only to columns to the left (i.e., $j < i$).  We can reorder the algorithm to look to the right by projecting $q_i$ out of all columns $j > i$.  This algorithm is stable while being just as parallel as `gram_schmidt_classical`."
   ]
  },
  {
   "cell_type": "code",
   "execution_count": 26,
   "metadata": {},
   "outputs": [
    {
     "name": "stdout",
     "output_type": "stream",
     "text": [
      "gram_schmidt_modified 8.19e-16 1.33e-08\n"
     ]
    }
   ],
   "source": [
    "def gram_schmidt_modified(A):\n",
    "    Q = A.copy()\n",
    "    R = np.zeros((len(A.T), len(A.T)))\n",
    "    for i in range(len(Q.T)):\n",
    "        R[i,i] = np.linalg.norm(Q[:,i])\n",
    "        Q[:,i] /= R[i,i]\n",
    "        R[i,i+1:] = Q[:,i].T @ Q[:,i+1:]\n",
    "        Q[:,i+1:] -= np.outer(Q[:,i], R[i,i+1:])\n",
    "    return Q, R\n",
    "\n",
    "qr_test(gram_schmidt_modified, V)"
   ]
  },
  {
   "cell_type": "code",
   "execution_count": 27,
   "metadata": {},
   "outputs": [
    {
     "data": {
      "text/plain": [
       "array([4.47213595e+00, 2.71448357e+00, 1.46813359e+00, 7.74796385e-01,\n",
       "       4.02707125e-01, 2.06254652e-01, 1.03916396e-01, 5.13647014e-02,\n",
       "       2.48256542e-02, 1.16864792e-02, 5.33340139e-03, 2.34677736e-03,\n",
       "       9.88975643e-04, 3.95848907e-04, 1.48880592e-04, 5.18578998e-05,\n",
       "       1.63841809e-05, 4.54454652e-06, 1.04299294e-06, 1.71466983e-07])"
      ]
     },
     "execution_count": 27,
     "metadata": {},
     "output_type": "execute_result"
    }
   ],
   "source": [
    "gram_schmidt_modified(V)[1].diagonal()"
   ]
  },
  {
   "cell_type": "markdown",
   "metadata": {},
   "source": [
    "### Stability\n",
    "\n",
    "Since QR factorization is unique (with positive diagonal of $R$), if we were to work in exact arithmetic, classical and modified Gram-Schmidt would produce the same result.  Note that modified Gram-Schmidt sequentially applies the projections into the orthogonal complement of each column $q_j$ of $Q$.  That is, given a vector $x$, we sequentially project $(I - q_j q_j^T) x$ for each column $j < i$.  This is equivalent to projecting all those columns at once due to\n",
    "\\begin{align}\n",
    "  (I - q_1 q_1^T) (I - q_0 q_0^T) x &= \\big(I - q_0 q_0^T - q_1 q_1^T + q_1 \\underbrace{q_1^T q_0}_{=0} q_0^T \\big) x \\\\\n",
    "  &= (I - q_0 q_0^T - q_1 q_1^T) x \\\\\n",
    "  &= (I - Q Q^T) x\n",
    "\\end{align}\n",
    "where $Q = [q_0 | q_1 ]$.  This identity can be applied recursively to convert modified Gram-Schmidt to classical, but the identity is not exact in finite precision arithmetic."
   ]
  },
  {
   "cell_type": "code",
   "execution_count": 28,
   "metadata": {},
   "outputs": [
    {
     "name": "stdout",
     "output_type": "stream",
     "text": [
      "norm(v) 1.4245900685395503\n",
      "r 1.7146698313477946e-07\n"
     ]
    },
    {
     "data": {
      "image/png": "[encoded data removed]",
      "text/plain": [
       "<Figure size 432x288 with 1 Axes>"
      ]
     },
     "metadata": {},
     "output_type": "display_data"
    }
   ],
   "source": [
    "v = V[:,-1]\n",
    "print('norm(v)', np.linalg.norm(v))\n",
    "print('r', R[-1,-1])\n",
    "plt.semilogy(np.abs(Q.T @ v), 'o')\n",
    "plt.title('Inner products of v with Q');"
   ]
  },
  {
   "cell_type": "code",
   "execution_count": 29,
   "metadata": {},
   "outputs": [
    {
     "name": "stdout",
     "output_type": "stream",
     "text": [
      "[1, -0.6666666666666666, -0.22222222222222224, -0.07407407407407408, -0.024691358024691364, -0.008230452674897124, -0.0027434842249657075, -0.0009144947416552361, -0.0003048315805517454, -0.00010161052685058181, -3.3870175616860605e-05, -1.1290058538953536e-05, -3.763352846317846e-06, -1.2544509487726156e-06, -4.181503162575385e-07, -1.3938343875251286e-07, -4.6461146250837626e-08, -1.548704875027921e-08, -5.162349583426404e-09, -1.7207831944754682e-09, -5.735943981584894e-10]\n",
      "seq   abs 5.9562e-22  rel 2.0768e-12\n",
      "block abs 5.3534e-17  rel 1.8666e-07\n",
      "numpy abs 7.4670e-17  rel 2.6036e-07\n"
     ]
    },
    {
     "data": {
      "image/png": "[encoded data removed]",
      "text/plain": [
       "<Figure size 432x288 with 1 Axes>"
      ]
     },
     "metadata": {},
     "output_type": "display_data"
    }
   ],
   "source": [
    "def test_sum(n):\n",
    "    def gen(first, n, factor=2/3):\n",
    "        l = [first]\n",
    "        ifactor = 1-factor\n",
    "        for i in range(n):\n",
    "            l.append(-first * factor * ifactor**i)\n",
    "        return l, first * ifactor**n\n",
    "    def sum_seq(numbers):\n",
    "        s = 0\n",
    "        for a in numbers:\n",
    "            s += a\n",
    "        return s\n",
    "    def sum_block(numbers):\n",
    "        s = 0\n",
    "        for a in numbers[1:]:\n",
    "            s += a\n",
    "        return numbers[0] + s\n",
    "    numbers, exact = gen(1, n)\n",
    "    print(numbers)\n",
    "    plt.semilogy(np.abs(numbers), 'o')\n",
    "    seq_err = sum_seq(numbers) - exact\n",
    "    block_err = sum_block(numbers) - exact\n",
    "    numpy_err = np.sum(numbers) - exact\n",
    "    print('seq   abs {:.4e}  rel {:.4e}'.format(seq_err, seq_err/exact))\n",
    "    print('block abs {:.4e}  rel {:.4e}'.format(block_err, block_err/exact))\n",
    "    print('numpy abs {:.4e}  rel {:.4e}'.format(numpy_err, numpy_err/exact))\n",
    "    \n",
    "test_sum(20)"
   ]
  },
  {
   "cell_type": "markdown",
   "metadata": {},
   "source": [
    "### Householder triangularization\n",
    "\n",
    "Gram-Schmidt methods perform triangular transformations to build an orthogonal matrix.  As we have seen, $X = QR$ is satisfied accurately, but $Q$ may not be orthogonal when $X$ is ill-conditioned.  Householder triangularization instead applies a sequence of orthogonal transformations to build a triangular matrix.\n",
    "\n",
    "$$ \\underbrace{Q_{n-1} \\dotsb Q_0}_{Q^T} A = R $$\n",
    "\n",
    "The structure of the algorithm is\n",
    "\n",
    "$$ \\underbrace{\\begin{bmatrix} * & * & * \\\\ * & * & * \\\\ * & * & * \\\\ * & * & * \\\\ * & * & * \\\\ \\end{bmatrix}}_{A} \\to\n",
    "\\underbrace{\\begin{bmatrix} * & * & * \\\\ 0 & * & * \\\\ 0 & * & * \\\\ 0 & * & * \\\\ 0 & * & * \\\\ \\end{bmatrix}}_{Q_0 A} \\to\n",
    "\\underbrace{\\begin{bmatrix} * & * & * \\\\ 0 & * & * \\\\ 0 & 0 & * \\\\ 0 & 0 & * \\\\ 0 & 0 & * \\\\ \\end{bmatrix}}_{Q_1 Q_0 A} \\to\n",
    "\\underbrace{\\begin{bmatrix} * & * & * \\\\ 0 & * & * \\\\ 0 & 0 & * \\\\ 0 & 0 & 0 \\\\ 0 & 0 & 0 \\\\ \\end{bmatrix}}_{Q_2 Q_1 Q_0 A}\n",
    "$$\n",
    "\n",
    "where the elementary orthogonal matrices $Q_i$ chosen to introduce zeros below the diagonal in the $i$th column of $R$.\n",
    "Each of these transformations will have the form\n",
    "$$Q_i = \\begin{bmatrix} I_i & 0 \\\\ 0 & F \\end{bmatrix}$$\n",
    "where $F$ is a \"reflection\" that achieves\n",
    "$$ F x = \\begin{bmatrix} \\lVert x \\rVert \\\\ 0 \\\\ 0 \\\\ \\vdots \\end{bmatrix} $$\n",
    "where $x$ is the column of $R$ from the diagonal down.\n",
    "This transformation is a reflection across a plane with normal $v = Fx - x = \\lVert x \\rVert e_1 - x$.\n",
    "\n",
    "![Householder Reflector (Trefethen and Bau, 1999)](img/TB-Householder.png)\n",
    "\n",
    "The reflection, as depected above by Trefethen and Bau (1999) can be written $F = I - 2 \\frac{v v^T}{v^T v}$."
   ]
  },
  {
   "cell_type": "code",
   "execution_count": 30,
   "metadata": {},
   "outputs": [
    {
     "data": {
      "text/plain": [
       "array([[1.43896426, 0.43227761, 0.99110883, 0.88292239],\n",
       "       [0.43227761, 1.64752629, 0.70840329, 0.96992974],\n",
       "       [0.99110883, 0.70840329, 0.98398427, 0.79118118],\n",
       "       [0.88292239, 0.96992974, 0.79118118, 1.76253247]])"
      ]
     },
     "execution_count": 30,
     "metadata": {},
     "output_type": "execute_result"
    }
   ],
   "source": [
    "A = np.random.rand(4, 4)\n",
    "A = A + A.T # Random symmetric matrix\n",
    "A"
   ]
  },
  {
   "cell_type": "code",
   "execution_count": 31,
   "metadata": {},
   "outputs": [
    {
     "data": {
      "text/plain": [
       "array([[0., 0., 0., 0.],\n",
       "       [0., 0., 0., 0.],\n",
       "       [0., 0., 0., 0.],\n",
       "       [0., 0., 0., 0.]])"
      ]
     },
     "execution_count": 31,
     "metadata": {},
     "output_type": "execute_result"
    }
   ],
   "source": [
    "A.T - A"
   ]
  },
  {
   "cell_type": "code",
   "execution_count": 32,
   "metadata": {},
   "outputs": [
    {
     "data": {
      "text/plain": [
       "array([[ 1.    ,  0.    ,  0.    ,  0.    ],\n",
       "       [ 0.    , -0.3097, -0.71  , -0.6325],\n",
       "       [ 0.    , -0.71  ,  0.6151, -0.3429],\n",
       "       [ 0.    , -0.6325, -0.3429,  0.6946]])"
      ]
     },
     "execution_count": 32,
     "metadata": {},
     "output_type": "execute_result"
    }
   ],
   "source": [
    "from scipy.linalg import block_diag\n",
    "np.set_printoptions(precision=4)\n",
    "\n",
    "def reflector(v):\n",
    "    return np.eye(len(v)) - 2*np.outer(v, v)\n",
    "\n",
    "v = A[1:,0].copy()\n",
    "v[0] += np.linalg.norm(v)\n",
    "v = v / np.linalg.norm(v)\n",
    "F = reflector(v)\n",
    "Q_0 = block_diag(np.eye(1), F)\n",
    "Q_0"
   ]
  },
  {
   "cell_type": "code",
   "execution_count": 33,
   "metadata": {},
   "outputs": [
    {
     "name": "stdout",
     "output_type": "stream",
     "text": [
      "[0.     0.4323 0.9911 0.8829]\n"
     ]
    },
    {
     "data": {
      "text/plain": [
       "array([[ 1.    ,  0.    ,  0.    ,  0.    ],\n",
       "       [ 0.    , -0.3097, -0.71  , -0.6325],\n",
       "       [ 0.    , -0.71  ,  0.6151, -0.3429],\n",
       "       [ 0.    , -0.6325, -0.3429,  0.6946]])"
      ]
     },
     "execution_count": 33,
     "metadata": {},
     "output_type": "execute_result"
    }
   ],
   "source": [
    "v = A[:,0].copy()\n",
    "v[0] = 0\n",
    "print(v)\n",
    "v[1] += np.linalg.norm(v[1:])\n",
    "v /= np.linalg.norm(v)\n",
    "reflector(v)"
   ]
  },
  {
   "cell_type": "code",
   "execution_count": 34,
   "metadata": {},
   "outputs": [
    {
     "data": {
      "text/plain": [
       "array([[ 1.4390e+00,  4.3228e-01,  9.9111e-01,  8.8292e-01],\n",
       "       [-1.3960e+00, -1.6266e+00, -1.4184e+00, -1.9768e+00],\n",
       "       [ 9.4328e-17, -1.0665e+00, -1.6897e-01, -8.0630e-01],\n",
       "       [ 2.0001e-16, -6.1126e-01, -2.3592e-01,  3.3943e-01]])"
      ]
     },
     "execution_count": 34,
     "metadata": {},
     "output_type": "execute_result"
    }
   ],
   "source": [
    "Q_0 @ A"
   ]
  },
  {
   "cell_type": "code",
   "execution_count": 35,
   "metadata": {},
   "outputs": [
    {
     "data": {
      "text/plain": [
       "array([[ 1.4390e+00, -1.3960e+00,  9.4328e-17,  2.0001e-16],\n",
       "       [ 4.3228e-01, -1.6266e+00, -1.0665e+00, -6.1126e-01],\n",
       "       [ 9.9111e-01, -1.4184e+00, -1.6897e-01, -2.3592e-01],\n",
       "       [ 8.8292e-01, -1.9768e+00, -8.0630e-01,  3.3943e-01]])"
      ]
     },
     "execution_count": 35,
     "metadata": {},
     "output_type": "execute_result"
    }
   ],
   "source": [
    "A @ Q_0"
   ]
  },
  {
   "cell_type": "code",
   "execution_count": 36,
   "metadata": {},
   "outputs": [
    {
     "name": "stdout",
     "output_type": "stream",
     "text": [
      "qr_householder1      1.88e-15 3.17e-16\n"
     ]
    }
   ],
   "source": [
    "def householder_Q_times(V, x):\n",
    "    \"\"\"Apply orthogonal matrix represented as list of Householder reflectors\"\"\"\n",
    "    y = x.copy()\n",
    "    for i in reversed(range(len(V))):\n",
    "        y[i:] -= 2 * V[i] * V[i].dot(y[i:])\n",
    "    return y\n",
    "\n",
    "def qr_householder1(A):\n",
    "    \"Compute QR factorization using naive Householder reflection\"\n",
    "    m, n = A.shape\n",
    "    R = A.copy()\n",
    "    V = []\n",
    "    for i in range(n):\n",
    "        v = R[i:,i].copy()\n",
    "        v[0] -= np.linalg.norm(v)\n",
    "        v = v/np.linalg.norm(v)     # Normalized reflector plane\n",
    "        R[i:,i:] -= 2 * np.outer(v, v @ R[i:,i:])\n",
    "        V.append(v)                    # Storing reflectors is equivalent to storing orthogonal matrix\n",
    "    Q = np.eye(m, n)\n",
    "    for i in range(n):\n",
    "        Q[:,i] = householder_Q_times(V, Q[:,i])\n",
    "    return Q, np.triu(R[:n,:])\n",
    "\n",
    "qr_test(qr_householder1, np.array([[1.,2],[3,4],[5,6]]))"
   ]
  },
  {
   "cell_type": "code",
   "execution_count": 37,
   "metadata": {},
   "outputs": [
    {
     "name": "stdout",
     "output_type": "stream",
     "text": [
      "qr_householder1      3.11e-15 2.70e-15\n",
      "qr                   2.53e-15 2.36e-15\n",
      "gram_schmidt_modified 8.19e-16 1.33e-08\n"
     ]
    }
   ],
   "source": [
    "qr_test(qr_householder1, V)\n",
    "qr_test(np.linalg.qr, V)\n",
    "qr_test(gram_schmidt_modified, V)"
   ]
  },
  {
   "cell_type": "code",
   "execution_count": 38,
   "metadata": {},
   "outputs": [
    {
     "data": {
      "text/plain": [
       "272240823.70513624"
      ]
     },
     "execution_count": 38,
     "metadata": {},
     "output_type": "execute_result"
    }
   ],
   "source": [
    "np.linalg.cond(V)"
   ]
  },
  {
   "cell_type": "markdown",
   "metadata": {},
   "source": [
    "### Choice of two projections\n",
    "\n",
    "It turns out our implementation has a nasty deficiency."
   ]
  },
  {
   "cell_type": "code",
   "execution_count": 39,
   "metadata": {},
   "outputs": [
    {
     "name": "stdout",
     "output_type": "stream",
     "text": [
      "qr_householder1      nan nan\n"
     ]
    },
    {
     "name": "stderr",
     "output_type": "stream",
     "text": [
      "<ipython-input-36-7c16fa44a4d4>:16: RuntimeWarning: invalid value encountered in true_divide\n",
      "  v = v/np.linalg.norm(v)     # Normalized reflector plane\n"
     ]
    }
   ],
   "source": [
    "qr_test(qr_householder1, np.eye(1))"
   ]
  },
  {
   "cell_type": "code",
   "execution_count": 40,
   "metadata": {},
   "outputs": [
    {
     "name": "stderr",
     "output_type": "stream",
     "text": [
      "<ipython-input-36-7c16fa44a4d4>:16: RuntimeWarning: invalid value encountered in true_divide\n",
      "  v = v/np.linalg.norm(v)     # Normalized reflector plane\n"
     ]
    },
    {
     "name": "stdout",
     "output_type": "stream",
     "text": [
      "qr_householder1      nan nan\n"
     ]
    }
   ],
   "source": [
    "qr_test(qr_householder1, np.eye(3,2))"
   ]
  },
  {
   "cell_type": "markdown",
   "metadata": {},
   "source": [
    "Inside `qr_householder1`, we have the lines\n",
    "```\n",
    "        x = R[i:,i]\n",
    "        v = -x\n",
    "        v[0] += numpy.linalg.norm(x)\n",
    "        v = v/numpy.linalg.norm(v)     # Normalized reflector plane\n",
    "```\n",
    "What happens when $$x = \\begin{bmatrix}1 \\\\ 0 \\end{bmatrix}$$\n",
    "(i.e., the column of $R$ is already upper triangular)?\n",
    "\n",
    "We are trying to define a reflector plane (via its normal vector) from the zero vector,\n",
    "$$v = \\lVert x \\rVert e_0 - x .$$\n",
    "When we try to normalize this vector, we divide zero by zero and the algorithm breaks down (`nan`).  Maybe we just need to test for this special case and \"skip ahead\" when no reflection is needed?  And if so, how would we define $Q$?"
   ]
  },
  {
   "cell_type": "code",
   "execution_count": 41,
   "metadata": {},
   "outputs": [
    {
     "name": "stdout",
     "output_type": "stream",
     "text": [
      "qr_householder1      2.20e-09 4.44e-16\n",
      "(array([[ 1.0000e+00, -2.2204e-08],\n",
      "       [ 2.2204e-08,  1.0000e+00]]), array([[1., 1.],\n",
      "       [0., 1.]]))\n"
     ]
    }
   ],
   "source": [
    "qr_test(qr_householder1, np.array([[1.,1], [2e-8,1]]))\n",
    "print(qr_householder1(np.array([[1.,1], [2e-8,1]])))"
   ]
  },
  {
   "cell_type": "markdown",
   "metadata": {},
   "source": [
    "The error $QR - A$ is still $10^{-8}$ for this very well-conditioned matrix so something else must be at play here.\n",
    "\n",
    "![Choosing the better of two Householder reflectors (Trefethen and Bau, 1999).](img/TB-Householder2.png)"
   ]
  },
  {
   "cell_type": "code",
   "execution_count": 42,
   "metadata": {},
   "outputs": [
    {
     "name": "stdout",
     "output_type": "stream",
     "text": [
      "qr_householder2      0.00e+00 0.00e+00\n",
      "qr_householder2      0.00e+00 0.00e+00\n",
      "(array([[-1.e+00,  1.e-08],\n",
      "       [-1.e-08, -1.e+00]]), array([[-1., -1.],\n",
      "       [ 0., -1.]]))\n",
      "qr_householder2      5.20e-15 3.49e-15\n"
     ]
    }
   ],
   "source": [
    "def qr_householder2(A):\n",
    "    \"Compute QR factorization using Householder reflection\"\n",
    "    m, n = A.shape\n",
    "    R = A.copy()\n",
    "    V = []\n",
    "    for i in range(n):\n",
    "        v = R[i:,i].copy()\n",
    "        v[0] += np.sign(v[0]) * np.linalg.norm(v) # Choose the further of the two reflections\n",
    "        v = v/np.linalg.norm(v)     # Normalized reflector plane\n",
    "        R[i:,i:] -= np.outer(v, 2 * (v.T @ R[i:,i:]))\n",
    "        V.append(v)                    # Storing reflectors is equivalent to storing orthogonal matrix\n",
    "    Q = np.eye(m, n)\n",
    "    for i in range(n):\n",
    "        Q[:,i] = householder_Q_times(V, Q[:,i])\n",
    "    return Q, np.triu(R[:n,:])\n",
    "\n",
    "qr_test(qr_householder2, np.eye(3,2))\n",
    "qr_test(qr_householder2, np.array([[1.,1], [1e-8,1]]))\n",
    "print(qr_householder2(np.array([[1.,1], [1e-8,1]])))\n",
    "\n",
    "qr_test(qr_householder2, V)"
   ]
  },
  {
   "cell_type": "markdown",
   "metadata": {},
   "source": [
    "We now have a usable implementation of Householder QR.  There are some further concerns for factoring rank-deficient matrices.  We will visit the concept of pivoting later, in the context of LU and Cholesky factorization.\n",
    "\n",
    "## Condition number of a matrix\n",
    "\n",
    "We may have informally referred to a matrix as \"ill-conditioned\" when the columns are nearly linearly dependent, but let's make this concept for precise.  Recall the definition of (relative) condition number from the Rootfinding notes,\n",
    "\n",
    "$$ \\kappa = \\max_{\\delta x} \\frac{|\\delta f|/|f|}{|\\delta x|/|x|} . $$\n",
    "\n",
    "We understood this definition for scalar problems, but it also makes sense when the inputs and/or outputs are vectors (or matrices, etc.) and absolute value is replaced by vector (or matrix) norms.  Let's consider the case of matrix-vector multiplication, for which $f(x) = A x$.\n",
    "\n",
    "$$ \\kappa(A) = \\max_{\\delta x} \\frac{\\lVert A (x+\\delta x) - A x \\rVert/\\lVert A x \\rVert}{\\lVert \\delta x\\rVert/\\lVert x \\rVert}\n",
    "= \\max_{\\delta x} \\frac{\\lVert A \\delta x \\rVert}{\\lVert \\delta x \\rVert} \\, \\frac{\\lVert x \\rVert}{\\lVert A x \\rVert} = \\lVert A \\rVert \\frac{\\lVert x \\rVert}{\\lVert A x \\rVert} . $$\n",
    "\n",
    "There are two problems here:\n",
    "\n",
    "* I wrote $\\kappa(A)$ but my formula depends on $x$.\n",
    "* What is that $\\lVert A \\rVert$ beastie?\n",
    "\n",
    "### Stack push: Matrix norms\n",
    "\n",
    "Vector norms are built into the linear space (and defined in term of the inner product).  Matrix norms are *induced* by vector norms, according to\n",
    "\n",
    "$$ \\lVert A \\rVert = \\max_{x \\ne 0} \\frac{\\lVert A x \\rVert}{\\lVert x \\rVert} . $$\n",
    "\n",
    "* This equation makes sense for non-square matrices -- the vector norms of the input and output spaces may differ.\n",
    "* Due to linearity, all that matters is direction of $x$, so it could equivalently be written\n",
    "\n",
    "$$ \\lVert A \\rVert = \\max_{\\lVert x \\rVert = 1} \\lVert A x \\rVert . $$\n",
    "\n",
    "### Stack pop\n",
    "\n",
    "Now we understand the formula for condition number, but it depends on $x$.  Consider the matrix\n",
    "\n",
    "$$ A = \\begin{bmatrix} 1 & 0 \\\\ 0 & 0 \\end{bmatrix} . $$\n",
    "\n",
    "* What is the norm of this matrix?\n",
    "* What is the condition number when $x = [1,0]^T$?\n",
    "* What is the condition number when $x = [0,1]^T$?\n",
    "\n",
    "The condition number of matrix-vector multiplication depends on the vector.  The condition number of the matrix is the worst case (maximum) of the condition number for any vector, i.e.,\n",
    "\n",
    "$$ \\kappa(A) = \\max_{x \\ne 0} \\lVert A \\rVert \\frac{\\lVert x \\rVert}{\\lVert A x \\rVert} .$$\n",
    "\n",
    "If $A$ is invertible, then we can rephrase as\n",
    "\n",
    "$$ \\kappa(A) = \\max_{x \\ne 0} \\lVert A \\rVert \\frac{\\lVert A^{-1} (A x) \\rVert}{\\lVert A x \\rVert} =\n",
    "\\max_{A x \\ne 0} \\lVert A \\rVert \\frac{\\lVert A^{-1} (A x) \\rVert}{\\lVert A x \\rVert} = \\lVert A \\rVert \\lVert A^{-1} \\rVert . $$\n",
    "\n",
    "Evidently multiplying by a matrix is just as ill-conditioned of an operation as solving a linear system using that matrix."
   ]
  },
  {
   "cell_type": "code",
   "execution_count": 43,
   "metadata": {},
   "outputs": [
    {
     "data": {
      "text/plain": [
       "(4, 4)"
      ]
     },
     "execution_count": 43,
     "metadata": {},
     "output_type": "execute_result"
    }
   ],
   "source": [
    "a = np.array([1,2,3])\n",
    "A.shape"
   ]
  },
  {
   "cell_type": "code",
   "execution_count": 44,
   "metadata": {},
   "outputs": [
    {
     "name": "stdout",
     "output_type": "stream",
     "text": [
      "6.280369834735101e-16\n",
      "9.402219163119398e-15\n",
      "1.0021569437765227e-14\n"
     ]
    },
    {
     "data": {
      "text/plain": [
       "array([1., 2., 3., 4.])"
      ]
     },
     "execution_count": 44,
     "metadata": {},
     "output_type": "execute_result"
    }
   ],
   "source": [
    "def R_solve(R, b):\n",
    "    \"\"\"Solve Rx = b using back substitution.\"\"\"\n",
    "    x = b.copy()\n",
    "    m = len(b)\n",
    "    for i in reversed(range(m)):\n",
    "        x[i] -= R[i,i+1:].dot(x[i+1:])\n",
    "        x[i] /= R[i,i]\n",
    "    return x\n",
    "\n",
    "Q, R = np.linalg.qr(A)\n",
    "x = np.array([1,2,3,4])\n",
    "bfull = A @ x\n",
    "breduced = Q.T @ bfull\n",
    "print(np.linalg.norm(R_solve(R, breduced)\n",
    "                     - np.linalg.solve(R, breduced)))\n",
    "print(np.linalg.norm(R_solve(R, breduced)\n",
    "                     - x))\n",
    "print(np.linalg.norm(np.linalg.solve(R, breduced)\n",
    "                     - x))\n",
    "R_solve(R, breduced)"
   ]
  },
  {
   "cell_type": "markdown",
   "metadata": {},
   "source": [
    "### Cost of Householder factorization\n",
    "\n",
    "The dominant cost comes from the line\n",
    "```Python\n",
    "    R[i:,i:] -= 2 * numpy.outer(v, v.dot(R[i:,i:]))\n",
    "```\n",
    "were `R[i:,i:]` is an $(m-i)\\times(n-i)$ matrix.\n",
    "This line performs $2(m-i)(n-i)$ operations in `v.dot(R[i:,i:])`, another $(m-i)(n-i)$ in the \"outer\" product and again in subtraction.  As written, multiplication by 2 would be another $(m-i)(n-i)$ operations, but is only $m-i$ operations if we rewrite as\n",
    "```Python\n",
    "    w = 2*v\n",
    "    R[i:,i:] -= numpy.outer(w, v.dot(R[i:,i:]))\n",
    "```\n",
    "in which case the leading order cost is $4(m-i)(n-i)$.  To compute the total cost, we need to sum over all columns $i$,\n",
    "$$\\begin{split} \\sum_{i=1}^n 4(m-i)(n-i) &= 4 \\Big[ \\sum_{i=1}^n (m-n)(n-i) + \\sum_{i=1}^n (n-i)^2 \\Big] \\\\\n",
    "&= 4 (m-n) \\sum_{i=1}^n i + 4 \\sum_{i=1}^n i^2 \\\\\n",
    "&\\approx 2 (m-n) n^2 + 4 n^3/3 \\\\\n",
    "&= 2 m n^2 - \\frac 2 3 n^3 .\n",
    "\\end{split}$$\n",
    "Recall that Gram-Schmidt QR cost $2 m n^2$, so Householder costs about the same when $m \\gg n$ and is markedly less expensive when $m \\approx n$.\n",
    "\n",
    "### Backward Stability of Housholder"
   ]
  },
  {
   "cell_type": "code",
   "execution_count": 45,
   "metadata": {
    "scrolled": true
   },
   "outputs": [
    {
     "name": "stdout",
     "output_type": "stream",
     "text": [
      "# Forward error\n",
      "Q error 5.656854249492381\n",
      "R error 1.0007584740439666\n",
      "# Backward error\n",
      "Q2.T @ Q2 - I 1.3765843992557918e-12\n",
      "Q2*R2 - A 1.807714603200187e-16\n",
      "Q3*R3 - A 4.548215523185648e-05\n"
     ]
    }
   ],
   "source": [
    "def qr_test_backward(qr, n):\n",
    "    from numpy.linalg import norm\n",
    "    from numpy.random import randn\n",
    "    R = np.triu(randn(n,n))\n",
    "    Q, _ = np.linalg.qr(randn(n,n))\n",
    "    A = Q @ R\n",
    "    Q2, R2 = qr(A)\n",
    "    print('# Forward error')\n",
    "    print('Q error', norm(Q2 - Q))\n",
    "    print('R error', norm(R2 - R) / norm(R))\n",
    "    print('# Backward error')\n",
    "    A2 = Q2 @ R2\n",
    "    print('Q2.T @ Q2 - I', norm(Q2.T @ Q2 - np.eye(n)))\n",
    "    print('Q2*R2 - A', norm(A2 - A) / norm(A))\n",
    "    Q3, R3 = Q + 1e-5*randn(n,n), R + 1e-5*np.triu(randn(n,n))\n",
    "    A3 = Q3 @ R3\n",
    "    print('Q3*R3 - A', norm(A3 - A) / norm(A))\n",
    "    \n",
    "qr_test_backward(gram_schmidt_modified, 20)\n",
    "#qr_test_backward(np.linalg.qr, 50)"
   ]
  },
  {
   "cell_type": "markdown",
   "metadata": {},
   "source": [
    "## Least squares and the normal equations\n",
    "\n",
    "A **least squares problem** takes the form: given an $m\\times n$ matrix $A$ ($m \\ge n$), find $x$ such that\n",
    "$$ \\lVert Ax - b \\rVert $$\n",
    "is minimized.  If $A$ is square and full rank, then this minimizer will satisfy $A x - b = 0$, but that is not the case in general because $b$ is not in the range of $A$.\n",
    "The residual $A x - b$ must be orthogonal to the range of $A$.\n",
    "\n",
    "* Is this the same as saying $A^T (A x - b) = 0$?\n",
    "* If $QR = A$, is it the same as $Q^T (A x - b) = 0$?\n",
    "\n",
    "In the quiz, we showed that $QQ^T$ is an orthogonal projector onto the range of $Q$.  If $QR = A$,\n",
    "$$ QQ^T (A x - b) = QQ^T(Q R x - b) = Q (Q^T Q) R x - QQ^T b = QR x - QQ^T b = A x - QQ^T b . $$\n",
    "So if $b$ is in the range of $A$, we can solve $A x = b$.  If not, we need only *orthogonally* project $b$ into the range of $A$.\n",
    "\n",
    "### Solution by QR (Householder)\n",
    "\n",
    "Solve $R x = Q^T b$.\n",
    "\n",
    "* QR factorization costs $2 m n^2 - \\frac 2 3 n^3$ operations and is done once per matrix $A$.\n",
    "* Computing $Q^T b$ costs $4 (m-n)n + 2 n^2 = 4 mn - 2n^2$ (using the elementary reflectors, which are stable and lower storage than naive storage of $Q$).\n",
    "* Solving with $R$ costs $n^2$ operations.  Total cost per right hand side is thus $4 m n - n^2$.\n",
    "\n",
    "This method is stable and accurate.\n",
    "\n",
    "### Solution by Cholesky\n",
    "\n",
    "The mathematically equivalent form $(A^T A) x = A^T b$ are called the **normal equations**.  The solution process involves factoring the symmetric and positive definite $n\\times n$ matrix $A^T A$.\n",
    "\n",
    "* Computing $A^T A$ costs $m n^2$ flops, exploiting symmetry.\n",
    "* Factoring $A^T A = R^T R$ costs $\\frac 1 3 n^3$ flops.  The total factorization cost is thus $m n^2 + \\frac 1 3 n^3$.\n",
    "* Computing $A^T b$ costs $2 m n$.\n",
    "* Solving with $R^T$ costs $n^2$.\n",
    "* Solving with $R$ costs $n^2$.  Total cost per right hand side is thus $2 m n + 2 n^2$.\n",
    "\n",
    "The product $A^T A$ is ill-conditioned: $\\kappa(A^T A) = \\kappa(A)^2$ and can reduce the accuracy of a least squares solution.\n",
    "\n",
    "### Solution by Singular Value Decomposition\n",
    "\n",
    "Next, we will discuss a factorization\n",
    "$$ U \\Sigma V^T = A $$\n",
    "where $U$ and $V$ have orthonormal columns and $\\Sigma$ is diagonal with nonnegative entries.\n",
    "The entries of $\\Sigma$ are called **singular values** and this decomposition is the **singular value decomposition** (SVD).\n",
    "It may remind you of an eigenvalue decomposition $X \\Lambda X^{-1} = A$, but\n",
    "* the SVD exists for all matrices (including non-square and deficient matrices)\n",
    "* $U,V$ have orthogonal columns (while $X$ can be arbitrarily ill-conditioned).\n",
    "Indeed, if a matrix is symmetric and positive definite (all positive eigenvalues), then $U=V$ and $\\Sigma = \\Lambda$.\n",
    "Computing an SVD requires a somewhat complicated iterative algorithm, but a crude estimate of the cost is $2 m n^2 + 11 n^3$.  Note that this is similar to the cost of $QR$ when $m \\gg n$, but much more expensive for square matrices.\n",
    "Solving with the SVD involves\n",
    "* Compute $U^T b$ at a cost of $2 m n$.\n",
    "* Solve with the diagonal $n\\times n$ matrix $\\Sigma$ at a cost of $n$.\n",
    "* Apply $V$ at a cost of $2 n^2$.  The total cost per right hand side is thus $2 m n + 2n^2$.\n",
    "\n",
    "#### Example: rank-deficient problem"
   ]
  },
  {
   "cell_type": "code",
   "execution_count": 58,
   "metadata": {},
   "outputs": [
    {
     "data": {
      "text/plain": [
       "array([[ 0,  1],\n",
       "       [ 1,  3],\n",
       "       [ 2,  5],\n",
       "       [-1, -1]])"
      ]
     },
     "execution_count": 58,
     "metadata": {},
     "output_type": "execute_result"
    }
   ],
   "source": [
    "X = np.array([[0, 1], [1, 3], [2, 5], [-1, -1]])\n",
    "X"
   ]
  },
  {
   "cell_type": "code",
   "execution_count": 60,
   "metadata": {},
   "outputs": [
    {
     "data": {
      "text/plain": [
       "array([[ 1,  0,  1],\n",
       "       [ 1,  1,  3],\n",
       "       [ 1,  2,  5],\n",
       "       [ 1, -1, -1]])"
      ]
     },
     "execution_count": 60,
     "metadata": {},
     "output_type": "execute_result"
    }
   ],
   "source": [
    "A = np.array([0*X[:,0]+1, X[:,0], X[:,1]]).T\n",
    "A"
   ]
  },
  {
   "cell_type": "code",
   "execution_count": 63,
   "metadata": {},
   "outputs": [
    {
     "name": "stdout",
     "output_type": "stream",
     "text": [
      "2.5641983688596716e+16\n",
      "0.8452609621100825 [ 0.2071  0.4142 -0.7071]\n"
     ]
    },
    {
     "data": {
      "text/plain": [
       "array([ 0.0000e+00,  2.2204e-16,  4.4409e-16, -1.6653e-16])"
      ]
     },
     "execution_count": 63,
     "metadata": {},
     "output_type": "execute_result"
    }
   ],
   "source": [
    "b = X[:,0] - X[:,1] + .5\n",
    "Q, R = np.linalg.qr(A)\n",
    "print(np.linalg.cond(R))\n",
    "c_qr = R_solve(R, Q.T @ b)\n",
    "print(np.linalg.norm(c_qr), c_qr)\n",
    "A @ c_qr - b"
   ]
  },
  {
   "cell_type": "code",
   "execution_count": 47,
   "metadata": {},
   "outputs": [
    {
     "name": "stdout",
     "output_type": "stream",
     "text": [
      "0.4564354645876387 [-0.0833 -0.1667 -0.4167]\n"
     ]
    },
    {
     "data": {
      "text/plain": [
       "array([-1.1102e-16, -4.4409e-16, -1.3323e-15,  4.4409e-16])"
      ]
     },
     "execution_count": 47,
     "metadata": {},
     "output_type": "execute_result"
    }
   ],
   "source": [
    "U, S, V = np.linalg.svd(A, full_matrices=False)\n",
    "c_svd = V.T @ ((U.T @ b) / S)\n",
    "print(np.linalg.norm(c_svd), c_svd)\n",
    "A @ c_svd - b"
   ]
  },
  {
   "cell_type": "markdown",
   "metadata": {},
   "source": [
    "### Pseudoinverse\n",
    "\n",
    "An alternative is to explicitly form the $n\\times m$ pseudoinverse $A^\\dagger = R^{-1} Q^T$ (at a cost of $mn^2$) at which point each right hand side costs $2 mn$.  Why might we do this?\n",
    "\n",
    "* Lots of right hand sides\n",
    "* Real-time solution"
   ]
  },
  {
   "cell_type": "code",
   "execution_count": 48,
   "metadata": {},
   "outputs": [
    {
     "name": "stdout",
     "output_type": "stream",
     "text": [
      "cond(A) =  90847309.61919233\n",
      "cond(R^{-1} Q^T A) = 1.0000000105693043\n",
      "cond(L^{-T} L^{-1} A^T A) = 1.3904370775408743\n"
     ]
    }
   ],
   "source": [
    "# Test accuracy of solver for an ill-conditioned square matrix\n",
    "\n",
    "x = np.linspace(-1,1,19)\n",
    "A = np.vander(x)\n",
    "print('cond(A) = ', np.linalg.cond(A))\n",
    "Q, R = np.linalg.qr(A)\n",
    "print('cond(R^{-1} Q^T A) =', np.linalg.cond(np.linalg.solve(R, Q.T.dot(A))))\n",
    "L = np.linalg.cholesky(A.T @ A)\n",
    "print('cond(L^{-T} L^{-1} A^T A) =', \n",
    "      np.linalg.cond(np.linalg.solve(L.T, np.linalg.solve(L, A.T @ A))))"
   ]
  },
  {
   "cell_type": "markdown",
   "metadata": {},
   "source": [
    "## The [Singular Value Decomposition](https://en.wikipedia.org/wiki/Singular_value_decomposition)\n",
    "\n",
    "The SVD is the decomposition\n",
    "$$ U \\Sigma V^T = A $$\n",
    "where $U$ and $V$ have orthonormal columns and $\\Sigma$ is diagonal and nonnegative.\n",
    "Evidenly an arbitrary matrix consists of\n",
    "1. Orthogonal matrix -- rotation and reflection\n",
    "2. Diagonal scaling (transforms a sphere into an ellipsoid aligned to the coordinate axes)\n",
    "3. Orthogonal matrix -- rotation and reflection\n",
    "\n",
    "It is typical to order the singular values in descending order.\n",
    "\n",
    "The inverse has the same behavior:\n",
    "\n",
    "$$ A^{-1} = V \\Sigma^{-1} U^T $$\n",
    "\n",
    "The matrix norm is the largest singular value\n",
    "\n",
    "$$ \\lVert A \\rVert = \\sigma_{\\max} . $$\n",
    "\n",
    "The largest value in $\\Sigma^{-1}$ is $\\sigma_\\min^{-1}$, so\n",
    "\n",
    "$$ \\lVert A^{-1} \\rVert = \\sigma_\\min^{-1} . $$\n",
    "\n",
    "We showed previously that\n",
    "\n",
    "$$\\kappa(A) = \\lVert A \\rVert \\, \\lVert A^{-1} \\rVert $$\n",
    "\n",
    "so now we can also write\n",
    "\n",
    "$$ \\kappa(A) = \\frac{\\sigma_\\max}{\\sigma_\\min} . $$\n",
    "\n",
    "The SVD is a crucial tool in statistics and dimensionality reduction, often under names like\n",
    "\n",
    "* [Principal Component Analysis (PCA)](https://en.wikipedia.org/wiki/Principal_component_analysis)\n",
    "* Proper Orthogonal Decomposition (POD)\n",
    "* Karhunen-Loeve Expansion\n",
    "\n",
    "In this context, one computes an SVD of a data matrix and finds that the spectrum $\\Sigma$ decays rapidly and only the $k \\ll n$ components larger than some threshold are \"important\".  The dense matrix can thus be approximated as\n",
    "\n",
    "$$ \\hat U \\hat \\Sigma \\hat V^T $$\n",
    "\n",
    "by keeping only the first (largest) $k$ columns.  This reduces the storage from $mn$ entries to $mk + kn$ entries."
   ]
  },
  {
   "cell_type": "markdown",
   "metadata": {},
   "source": [
    "## Tinkering in class"
   ]
  },
  {
   "cell_type": "code",
   "execution_count": 57,
   "metadata": {},
   "outputs": [
    {
     "name": "stdout",
     "output_type": "stream",
     "text": [
      "63.82728259639295\n"
     ]
    },
    {
     "data": {
      "image/png": "[encoded data removed]",
      "text/plain": [
       "<Figure size 432x288 with 1 Axes>"
      ]
     },
     "metadata": {},
     "output_type": "display_data"
    }
   ],
   "source": [
    "m = 6\n",
    "x = np.linspace(-1, 1, m)\n",
    "#x = np.cos(np.linspace(0, np.pi, m))\n",
    "def f(x):\n",
    "    return 1.0*(x > 0) + (x < 0.5)\n",
    "A = np.vander(x)\n",
    "Q, R = np.linalg.qr(A)\n",
    "p = np.linalg.solve(R, Q.T @ f(x))\n",
    "y = np.linspace(-1,1,50)\n",
    "g = np.vander(y, m) @ p\n",
    "\n",
    "plt.plot(x, f(x), 'o')\n",
    "plt.plot(y, g)\n",
    "plt.plot(y, f(y))\n",
    "print(np.linalg.cond(A))"
   ]
  },
  {
   "cell_type": "code",
   "execution_count": 51,
   "metadata": {},
   "outputs": [
    {
     "data": {
      "text/plain": [
       "7206778.417326136"
      ]
     },
     "execution_count": 51,
     "metadata": {},
     "output_type": "execute_result"
    }
   ],
   "source": [
    "np.linalg.cond(np.vander(np.linspace(-1,1,100),20))"
   ]
  }
 ],
 "metadata": {
  "kernelspec": {
   "display_name": "Python 3",
   "language": "python",
   "name": "python3"
  },
  "language_info": {
   "codemirror_mode": {
    "name": "ipython",
    "version": 3
   },
   "file_extension": ".py",
   "mimetype": "text/x-python",
   "name": "python",
   "nbconvert_exporter": "python",
   "pygments_lexer": "ipython3",
   "version": "3.8.1"
  }
 },
 "nbformat": 4,
 "nbformat_minor": 4
}
